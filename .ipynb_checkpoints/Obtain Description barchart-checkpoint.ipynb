{
 "cells": [
  {
   "cell_type": "code",
   "execution_count": 1,
   "id": "trying-seminar",
   "metadata": {},
   "outputs": [],
   "source": [
    "import requests \n",
    "import pandas as pd\n",
    "from bs4 import BeautifulSoup\n",
    "from urllib.request import Request, urlopen\n"
   ]
  },
  {
   "cell_type": "code",
   "execution_count": 17,
   "id": "outdoor-direction",
   "metadata": {},
   "outputs": [],
   "source": [
    "path = r'List of stocks.csv'"
   ]
  },
  {
   "cell_type": "code",
   "execution_count": 50,
   "id": "nasty-termination",
   "metadata": {},
   "outputs": [],
   "source": [
    "tickers = pd.read_csv(path,header = None)"
   ]
  },
  {
   "cell_type": "code",
   "execution_count": 51,
   "id": "stunning-indianapolis",
   "metadata": {},
   "outputs": [
    {
     "data": {
      "text/html": [
       "<div>\n",
       "<style scoped>\n",
       "    .dataframe tbody tr th:only-of-type {\n",
       "        vertical-align: middle;\n",
       "    }\n",
       "\n",
       "    .dataframe tbody tr th {\n",
       "        vertical-align: top;\n",
       "    }\n",
       "\n",
       "    .dataframe thead th {\n",
       "        text-align: right;\n",
       "    }\n",
       "</style>\n",
       "<table border=\"1\" class=\"dataframe\">\n",
       "  <thead>\n",
       "    <tr style=\"text-align: right;\">\n",
       "      <th></th>\n",
       "      <th>0</th>\n",
       "    </tr>\n",
       "  </thead>\n",
       "  <tbody>\n",
       "    <tr>\n",
       "      <th>0</th>\n",
       "      <td>A US EQUITY</td>\n",
       "    </tr>\n",
       "    <tr>\n",
       "      <th>1</th>\n",
       "      <td>AA US EQUITY</td>\n",
       "    </tr>\n",
       "    <tr>\n",
       "      <th>2</th>\n",
       "      <td>AAC US EQUITY</td>\n",
       "    </tr>\n",
       "    <tr>\n",
       "      <th>3</th>\n",
       "      <td>AACG US EQUITY</td>\n",
       "    </tr>\n",
       "    <tr>\n",
       "      <th>4</th>\n",
       "      <td>AACIU US EQUITY</td>\n",
       "    </tr>\n",
       "  </tbody>\n",
       "</table>\n",
       "</div>"
      ],
      "text/plain": [
       "                 0\n",
       "0      A US EQUITY\n",
       "1     AA US EQUITY\n",
       "2    AAC US EQUITY\n",
       "3   AACG US EQUITY\n",
       "4  AACIU US EQUITY"
      ]
     },
     "execution_count": 51,
     "metadata": {},
     "output_type": "execute_result"
    }
   ],
   "source": [
    "tickers.head()"
   ]
  },
  {
   "cell_type": "code",
   "execution_count": 52,
   "id": "retired-uncle",
   "metadata": {},
   "outputs": [],
   "source": [
    "tickers = tickers[0].str.split().str.get(0)"
   ]
  },
  {
   "cell_type": "code",
   "execution_count": 53,
   "id": "3f3e82b0",
   "metadata": {},
   "outputs": [],
   "source": [
    "def find_between( s, first, last ):\n",
    "    try:\n",
    "        start = s.index( first ) + len( first )\n",
    "        end = s.index( last, start )\n",
    "        return s[start:end]\n",
    "    except ValueError:\n",
    "        return \"\""
   ]
  },
  {
   "cell_type": "code",
   "execution_count": 56,
   "id": "republican-transportation",
   "metadata": {},
   "outputs": [],
   "source": [
    "def get_stockDescriptions(tickers):\n",
    "    data = {}\n",
    "    for x in tickers[:2]:\n",
    "        try:\n",
    "            site= \"https://www.barchart.com/stocks/quotes/\"+x+\"/profile/\"\n",
    "            hdr = {'User-Agent': 'Mozilla/5.0'}\n",
    "            req = Request(site,headers=hdr)\n",
    "            page = urlopen(req)\n",
    "            soup = BeautifulSoup(page)\n",
    "            mydivs = soup.find_all(\"div\", {\"class\": \"text-block description\"}) #Obtained inspectioning site\n",
    "            dec = mydivs[0].find('p').text\n",
    "            name = find_between(soup.title.text,\"- \",\" -\").replace(' Stock Profile', \"\")\n",
    "            data[x] = {'Description':dec,'Company name':name}\n",
    "            time.sleep(.5)\n",
    "        except:\n",
    "            print(x)\n",
    "            \n",
    "    return(pd.DataFrame(data).T)\n",
    "        \n",
    "# print(soup)"
   ]
  },
  {
   "cell_type": "code",
   "execution_count": 57,
   "id": "475a8041",
   "metadata": {},
   "outputs": [
    {
     "data": {
      "text/html": [
       "<div>\n",
       "<style scoped>\n",
       "    .dataframe tbody tr th:only-of-type {\n",
       "        vertical-align: middle;\n",
       "    }\n",
       "\n",
       "    .dataframe tbody tr th {\n",
       "        vertical-align: top;\n",
       "    }\n",
       "\n",
       "    .dataframe thead th {\n",
       "        text-align: right;\n",
       "    }\n",
       "</style>\n",
       "<table border=\"1\" class=\"dataframe\">\n",
       "  <thead>\n",
       "    <tr style=\"text-align: right;\">\n",
       "      <th></th>\n",
       "      <th>Description</th>\n",
       "      <th>Company name</th>\n",
       "    </tr>\n",
       "  </thead>\n",
       "  <tbody>\n",
       "    <tr>\n",
       "      <th>A</th>\n",
       "      <td>Agilent Technologies, Inc. is an original equi...</td>\n",
       "      <td>Agilent Technologies</td>\n",
       "    </tr>\n",
       "    <tr>\n",
       "      <th>AA</th>\n",
       "      <td>Alcoa is a global industry leader in bauxite, ...</td>\n",
       "      <td>Alcoa Corp</td>\n",
       "    </tr>\n",
       "  </tbody>\n",
       "</table>\n",
       "</div>"
      ],
      "text/plain": [
       "                                          Description          Company name\n",
       "A   Agilent Technologies, Inc. is an original equi...  Agilent Technologies\n",
       "AA  Alcoa is a global industry leader in bauxite, ...            Alcoa Corp"
      ]
     },
     "execution_count": 57,
     "metadata": {},
     "output_type": "execute_result"
    }
   ],
   "source": [
    "get_stockDescriptions(tickers)"
   ]
  },
  {
   "cell_type": "code",
   "execution_count": null,
   "id": "worth-olive",
   "metadata": {},
   "outputs": [],
   "source": []
  }
 ],
 "metadata": {
  "kernelspec": {
   "display_name": "Python 3 (ipykernel)",
   "language": "python",
   "name": "python3"
  },
  "language_info": {
   "codemirror_mode": {
    "name": "ipython",
    "version": 3
   },
   "file_extension": ".py",
   "mimetype": "text/x-python",
   "name": "python",
   "nbconvert_exporter": "python",
   "pygments_lexer": "ipython3",
   "version": "3.8.12"
  }
 },
 "nbformat": 4,
 "nbformat_minor": 5
}
